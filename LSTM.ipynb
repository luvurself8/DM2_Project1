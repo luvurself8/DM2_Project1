{
 "cells": [
  {
   "cell_type": "markdown",
   "id": "d581be46",
   "metadata": {},
   "source": [
    "# 필요한 변수 크롤링 및 병합"
   ]
  },
  {
   "cell_type": "code",
   "execution_count": 1,
   "id": "83b1ebf3",
   "metadata": {},
   "outputs": [],
   "source": [
    "import pandas as pd\n",
    "import numpy as np\n",
    "from bs4 import BeautifulSoup\n",
    "from urllib.request import Request, urlopen\n",
    "import requests\n",
    "from datetime import datetime\n",
    "from functools import reduce"
   ]
  },
  {
   "cell_type": "markdown",
   "id": "5e63aa4e",
   "metadata": {},
   "source": [
    "## USD KRW 크롤링"
   ]
  },
  {
   "cell_type": "code",
   "execution_count": 2,
   "id": "997963f7",
   "metadata": {},
   "outputs": [],
   "source": [
    "url = Request('https://kr.investing.com/currencies/usd-krw-historical-data', headers={'user-agent': 'Mozilla/5.0 (Windows NT 11.0; WOW64) AppleWebKit/537.36 (KHTML, like Gecko) Chrome/109.0.5414.76 Safari/537.36 NetHelper70'})\n",
    "\n",
    "res = urlopen(url)\n",
    "bs = BeautifulSoup(res, 'html.parser')\n",
    "\n",
    "table = bs.select_one('#__next > div.desktop\\:relative.desktop\\:bg-background-default > div > div > div.grid.gap-4.tablet\\:gap-6.grid-cols-4.tablet\\:grid-cols-8.desktop\\:grid-cols-12.grid-container--fixed-desktop.general-layout_main__lRLYJ > main > div > div:nth-child(4) > div > div:nth-child(1) > div > div.border.border-main > div > table')\n",
    "\n",
    "rows=table.select('#__next > div.desktop\\:relative.desktop\\:bg-background-default > div > div > div.grid.gap-4.tablet\\:gap-6.grid-cols-4.tablet\\:grid-cols-8.desktop\\:grid-cols-12.grid-container--fixed-desktop.general-layout_main__lRLYJ > main > div > div:nth-child(4) > div > div:nth-child(1) > div > div.border.border-main > div > table > tbody > tr')\n",
    "\n",
    "a_list = []\n",
    "b_list = []\n",
    "\n",
    "for i in rows:\n",
    "    a = i.find('time').text.replace(' ', '')\n",
    "    a_list.append(a)\n",
    "    \n",
    "    b = i.find('td', attrs={'dir': 'ltr'}).text.replace(',', '')\n",
    "    b_list.append(b)\n",
    "\n",
    "data = {'date': a_list, 'price': b_list}\n",
    "df1 = pd.DataFrame(data)\n",
    "df1 = df1.sort_values(by='date')"
   ]
  },
  {
   "cell_type": "markdown",
   "id": "f4fd80bc",
   "metadata": {},
   "source": [
    "## 달러지수"
   ]
  },
  {
   "cell_type": "code",
   "execution_count": 3,
   "id": "37fe9002",
   "metadata": {},
   "outputs": [],
   "source": [
    "url = Request('https://kr.investing.com/currencies/us-dollar-index-historical-data', headers={'user-agent': 'Mozilla/5.0 (Windows NT 11.0; WOW64) AppleWebKit/537.36 (KHTML, like Gecko) Chrome/109.0.5414.76 Safari/537.36 NetHelper70'})\n",
    "\n",
    "res = urlopen(url)\n",
    "bs = BeautifulSoup(res, 'html.parser')\n",
    "\n",
    "table = bs.find('table', {'id': 'curr_table'})\n",
    "\n",
    "data = []\n",
    "for row in table.find_all('tr'):\n",
    "    cols = row.find_all('td')\n",
    "    cols = [col.text.strip() for col in cols[:2]]  # Only extract first 2 columns\n",
    "    data.append(cols)\n",
    "\n",
    "columns = ['date', 'price']\n",
    "\n",
    "df2 = pd.DataFrame(data[1:], columns=columns)\n",
    "\n",
    "df2['date'] = pd.to_datetime(df2['date'], format='%Y년 %m월 %d일')\n",
    "df2 = df2.sort_values(by='date')\n",
    "df2['date'] = df2['date'].apply(lambda x: datetime.strftime(x, '%Y-%m-%d'))"
   ]
  },
  {
   "cell_type": "markdown",
   "id": "42c2f6c3",
   "metadata": {},
   "source": [
    "##  crb"
   ]
  },
  {
   "cell_type": "code",
   "execution_count": 4,
   "id": "5ead0ac9",
   "metadata": {},
   "outputs": [],
   "source": [
    "url = Request('https://kr.investing.com/indices/thomson-reuters---jefferies-crb-historical-data', headers={'user-agent': 'Mozilla/5.0 (Windows NT 11.0; WOW64) AppleWebKit/537.36 (KHTML, like Gecko) Chrome/109.0.5414.76 Safari/537.36 NetHelper70'})\n",
    "\n",
    "res = urlopen(url)\n",
    "bs = BeautifulSoup(res, 'html.parser')\n",
    "\n",
    "table=bs.select_one('#__next > div.desktop\\:relative.desktop\\:bg-background-default > div > div > div.grid.gap-4.tablet\\:gap-6.grid-cols-4.tablet\\:grid-cols-8.desktop\\:grid-cols-12.grid-container--fixed-desktop.general-layout_main__lRLYJ > main > div > div:nth-child(4) > div > div > div.border.border-main > div > table')\n",
    "# print(table)\n",
    "\n",
    "rows=table.select('#__next > div.desktop\\:relative.desktop\\:bg-background-default > div > div > div.grid.gap-4.tablet\\:gap-6.grid-cols-4.tablet\\:grid-cols-8.desktop\\:grid-cols-12.grid-container--fixed-desktop.general-layout_main__lRLYJ > main > div > div > div > div > div.border.border-main > div > table > tbody > tr')\n",
    "\n",
    "a_list = []\n",
    "b_list = []\n",
    "\n",
    "for i in rows:\n",
    "    a = i.find('time').text.replace(' ', '')\n",
    "    a_list.append(a)\n",
    "    \n",
    "    b = i.find('td', attrs={'dir': 'ltr'}).text\n",
    "    b_list.append(b)\n",
    "\n",
    "data = {'date': a_list, 'price': b_list}\n",
    "df3 = pd.DataFrame(data)\n",
    "df3 = df3.sort_values(by='date')\n",
    "# print(df4)"
   ]
  },
  {
   "cell_type": "markdown",
   "id": "0b66c22d",
   "metadata": {},
   "source": [
    "## 병합"
   ]
  },
  {
   "cell_type": "code",
   "execution_count": 5,
   "id": "53e79429",
   "metadata": {},
   "outputs": [],
   "source": [
    "merged=reduce(lambda x,y: pd.merge(x,y, on='date', how ='outer'), [df1, df2, df3])\n",
    "\n",
    "merged.columns=['date', 'USD/KRW', '달러지수', 'crb']\n",
    "\n",
    "merged['date'] = pd.to_datetime(merged['date'])\n",
    "merged['USD/KRW'] = pd.to_numeric(merged['USD/KRW'], errors='coerce')\n",
    "merged['달러지수'] = pd.to_numeric(merged['달러지수'], errors='coerce')\n",
    "merged['crb'] = pd.to_numeric(merged['crb'], errors='coerce')\n",
    "\n",
    "existing_data=pd.read_excel('./최종지수.xlsx')\n",
    "\n",
    "combined_data = pd.concat([existing_data, merged])\n",
    "\n",
    "combined_data = combined_data.drop_duplicates(subset=['date'],keep='last').sort_values('date')\n",
    "# print(combined_data)\n",
    "\n",
    "combined_data.to_excel('./최종지수.xlsx', index=False)"
   ]
  },
  {
   "cell_type": "markdown",
   "id": "31524b36",
   "metadata": {},
   "source": [
    "# 저장한 자료 불러오기"
   ]
  },
  {
   "cell_type": "markdown",
   "id": "888cd088",
   "metadata": {},
   "source": [
    "## 자료불러오기"
   ]
  },
  {
   "cell_type": "code",
   "execution_count": 6,
   "id": "e9575dff",
   "metadata": {},
   "outputs": [],
   "source": [
    "최종지수 = pd.read_excel('./최종지수.xlsx').set_index('date').fillna(method='ffill')"
   ]
  },
  {
   "cell_type": "code",
   "execution_count": 7,
   "id": "e75ab7cd",
   "metadata": {},
   "outputs": [],
   "source": [
    "최종지수 = 최종지수['1998-03-23':]"
   ]
  },
  {
   "cell_type": "markdown",
   "id": "25d4ba66",
   "metadata": {},
   "source": [
    "## 결측치 및 자료 길이 확인"
   ]
  },
  {
   "cell_type": "code",
   "execution_count": 8,
   "id": "58dd6a51",
   "metadata": {},
   "outputs": [
    {
     "data": {
      "text/plain": [
       "USD/KRW    0\n",
       "달러지수       0\n",
       "crb        0\n",
       "dtype: int64"
      ]
     },
     "execution_count": 8,
     "metadata": {},
     "output_type": "execute_result"
    }
   ],
   "source": [
    "np.sum(최종지수.isna())"
   ]
  },
  {
   "cell_type": "code",
   "execution_count": 9,
   "id": "04434c8b",
   "metadata": {
    "scrolled": false
   },
   "outputs": [
    {
     "data": {
      "text/plain": [
       "9149"
      ]
     },
     "execution_count": 9,
     "metadata": {},
     "output_type": "execute_result"
    }
   ],
   "source": [
    "len(최종지수)"
   ]
  },
  {
   "cell_type": "code",
   "execution_count": 10,
   "id": "9db1abec",
   "metadata": {},
   "outputs": [],
   "source": [
    "data = 최종지수"
   ]
  },
  {
   "cell_type": "markdown",
   "id": "29027b01",
   "metadata": {},
   "source": [
    "# 모델"
   ]
  },
  {
   "cell_type": "markdown",
   "id": "134eff35",
   "metadata": {},
   "source": [
    "## 파라미터 조정"
   ]
  },
  {
   "cell_type": "code",
   "execution_count": 11,
   "id": "6a93c99b",
   "metadata": {},
   "outputs": [],
   "source": [
    "import tensorflow as tf\n",
    "import matplotlib as mpl\n",
    "import matplotlib.pyplot as plt\n",
    "from tensorflow.keras.callbacks import ModelCheckpoint\n",
    "from tensorflow.keras.callbacks import EarlyStopping"
   ]
  },
  {
   "cell_type": "code",
   "execution_count": 12,
   "id": "259c0cc4",
   "metadata": {},
   "outputs": [
    {
     "name": "stdout",
     "output_type": "stream",
     "text": [
      "향후 몇일의 예측값을 보고 싶으신가요 (권장 1일) :1\n"
     ]
    }
   ],
   "source": [
    "BATCH_SIZE = 32\n",
    "TRAIN_SPLIT = int(len(data)*0.9)\n",
    "EVALUATION_INTERVAL = int(TRAIN_SPLIT/BATCH_SIZE)\n",
    "EPOCHS = 100\n",
    "VALIDATION_EVALU_INTERVAL = int((len(data)-TRAIN_SPLIT)/BATCH_SIZE)\n",
    "BUFFER_SIZE = 64\n",
    "past_history = 10\n",
    "future_target = int(input('향후 몇일의 예측값을 보고 싶으신가요 (권장 1일) :'))\n",
    "STEP = 1\n",
    "#drop_rate = 0.1\n",
    "patience = 40"
   ]
  },
  {
   "cell_type": "markdown",
   "id": "24c8f83f",
   "metadata": {},
   "source": [
    "## 데이터 표준화 "
   ]
  },
  {
   "cell_type": "code",
   "execution_count": 13,
   "id": "82972984",
   "metadata": {
    "scrolled": false
   },
   "outputs": [
    {
     "name": "stdout",
     "output_type": "stream",
     "text": [
      "(9149, 3)\n",
      "[[ 2.06145235  0.71783269 -0.95960735]\n",
      " [ 2.15002108  0.72416426 -0.99916922]\n",
      " [ 2.25723586  0.6997425  -0.97938829]\n",
      " ...\n",
      " [ 1.47755134  0.8168765   0.53435843]\n",
      " [ 1.47764457  0.8168765   0.53435843]\n",
      " [ 1.54374481  0.82818287  0.53435843]]\n"
     ]
    }
   ],
   "source": [
    "dataset = data.values\n",
    "data_mean = dataset.mean(axis=0)\n",
    "data_std = dataset.std(axis=0)\n",
    "dataset = (dataset-data_mean)/data_std\n",
    "\n",
    "print(dataset.shape)\n",
    "print(dataset)"
   ]
  },
  {
   "cell_type": "markdown",
   "id": "6edaf569",
   "metadata": {},
   "source": [
    "## 학습과 검증데이터 분리"
   ]
  },
  {
   "cell_type": "code",
   "execution_count": 14,
   "id": "90266d3a",
   "metadata": {},
   "outputs": [],
   "source": [
    "def split_data(dataset, target, start_index, end_index, history_size, target_size, step):\n",
    "    data = []\n",
    "    labels = []\n",
    "\n",
    "    start_index = start_index + history_size\n",
    "    if end_index is None:\n",
    "        end_index = len(dataset) - target_size+1\n",
    "    \n",
    "\n",
    "    for i in range(start_index, end_index):\n",
    "        labels.append(target[i:i + target_size])\n",
    "        indices = range(i - history_size, i, step)\n",
    "        data.append(dataset[indices])\n",
    "    \n",
    "    return np.array(data), np.array(labels)"
   ]
  },
  {
   "cell_type": "code",
   "execution_count": 15,
   "id": "4d2b12e7",
   "metadata": {},
   "outputs": [],
   "source": [
    "\n",
    "x_train, y_train = split_data(dataset, dataset[:,0], 0, TRAIN_SPLIT, past_history, future_target, STEP)\n",
    "\n",
    "x_val, y_val = split_data(dataset, dataset[:,0], TRAIN_SPLIT, None, past_history, future_target, STEP)\n",
    "\n",
    "train_data= tf.data.Dataset.from_tensor_slices((x_train, y_train))\n",
    "train_data = train_data.cache().shuffle(BUFFER_SIZE).batch(BATCH_SIZE).repeat()\n",
    "\n",
    "val_data = tf.data.Dataset.from_tensor_slices((x_val, y_val))\n",
    "val_data = val_data.cache().shuffle(BUFFER_SIZE).batch(BATCH_SIZE).repeat()"
   ]
  },
  {
   "cell_type": "markdown",
   "id": "f250f9b4",
   "metadata": {},
   "source": [
    "## 모델 구축 & 학습"
   ]
  },
  {
   "cell_type": "code",
   "execution_count": null,
   "id": "2b8e55ee",
   "metadata": {
    "scrolled": false
   },
   "outputs": [
    {
     "name": "stdout",
     "output_type": "stream",
     "text": [
      "Epoch 1/100\n",
      "256/257 [============================>.] - ETA: 0s - loss: 0.1385\n",
      "Epoch 1: val_loss improved from inf to 0.15087, saving model to model_weight.ckpt\n",
      "257/257 [==============================] - 5s 13ms/step - loss: 0.1382 - val_loss: 0.1509\n",
      "Epoch 2/100\n",
      "253/257 [============================>.] - ETA: 0s - loss: 0.0839\n",
      "Epoch 2: val_loss improved from 0.15087 to 0.08064, saving model to model_weight.ckpt\n",
      "257/257 [==============================] - 2s 8ms/step - loss: 0.0834 - val_loss: 0.0806\n",
      "Epoch 3/100\n",
      "256/257 [============================>.] - ETA: 0s - loss: 0.0661\n",
      "Epoch 3: val_loss improved from 0.08064 to 0.06820, saving model to model_weight.ckpt\n",
      "257/257 [==============================] - 2s 8ms/step - loss: 0.0660 - val_loss: 0.0682\n",
      "Epoch 4/100\n",
      "251/257 [============================>.] - ETA: 0s - loss: 0.0586\n",
      "Epoch 4: val_loss improved from 0.06820 to 0.05854, saving model to model_weight.ckpt\n",
      "257/257 [==============================] - 2s 8ms/step - loss: 0.0584 - val_loss: 0.0585\n",
      "Epoch 5/100\n",
      "253/257 [============================>.] - ETA: 0s - loss: 0.0552\n",
      "Epoch 5: val_loss did not improve from 0.05854\n",
      "257/257 [==============================] - 2s 8ms/step - loss: 0.0549 - val_loss: 0.0709\n",
      "Epoch 6/100\n",
      "255/257 [============================>.] - ETA: 0s - loss: 0.0519\n",
      "Epoch 6: val_loss improved from 0.05854 to 0.04913, saving model to model_weight.ckpt\n",
      "257/257 [==============================] - 2s 8ms/step - loss: 0.0518 - val_loss: 0.0491\n",
      "Epoch 7/100\n",
      "253/257 [============================>.] - ETA: 0s - loss: 0.0502\n",
      "Epoch 7: val_loss did not improve from 0.04913\n",
      "257/257 [==============================] - 2s 8ms/step - loss: 0.0500 - val_loss: 0.0495\n",
      "Epoch 8/100\n",
      "253/257 [============================>.] - ETA: 0s - loss: 0.0492\n",
      "Epoch 8: val_loss did not improve from 0.04913\n",
      "257/257 [==============================] - 2s 8ms/step - loss: 0.0490 - val_loss: 0.0512\n",
      "Epoch 9/100\n",
      "251/257 [============================>.] - ETA: 0s - loss: 0.0482\n",
      "Epoch 9: val_loss improved from 0.04913 to 0.03963, saving model to model_weight.ckpt\n",
      "257/257 [==============================] - 2s 9ms/step - loss: 0.0481 - val_loss: 0.0396\n",
      "Epoch 10/100\n",
      "257/257 [==============================] - ETA: 0s - loss: 0.0468\n",
      "Epoch 10: val_loss did not improve from 0.03963\n",
      "257/257 [==============================] - 2s 8ms/step - loss: 0.0468 - val_loss: 0.0498\n",
      "Epoch 11/100\n",
      "252/257 [============================>.] - ETA: 0s - loss: 0.0469\n",
      "Epoch 11: val_loss did not improve from 0.03963\n",
      "257/257 [==============================] - 2s 8ms/step - loss: 0.0467 - val_loss: 0.0446\n",
      "Epoch 12/100\n",
      "251/257 [============================>.] - ETA: 0s - loss: 0.0459\n",
      "Epoch 12: val_loss did not improve from 0.03963\n",
      "257/257 [==============================] - 2s 8ms/step - loss: 0.0458 - val_loss: 0.0472\n",
      "Epoch 13/100\n",
      "250/257 [============================>.] - ETA: 0s - loss: 0.0455\n",
      "Epoch 13: val_loss did not improve from 0.03963\n",
      "257/257 [==============================] - 2s 8ms/step - loss: 0.0453 - val_loss: 0.0408\n",
      "Epoch 14/100\n",
      "252/257 [============================>.] - ETA: 0s - loss: 0.0456\n",
      "Epoch 14: val_loss did not improve from 0.03963\n",
      "257/257 [==============================] - 2s 8ms/step - loss: 0.0453 - val_loss: 0.0426\n",
      "Epoch 15/100\n",
      "256/257 [============================>.] - ETA: 0s - loss: 0.0450\n",
      "Epoch 15: val_loss improved from 0.03963 to 0.03749, saving model to model_weight.ckpt\n",
      "257/257 [==============================] - 2s 8ms/step - loss: 0.0449 - val_loss: 0.0375\n",
      "Epoch 16/100\n",
      "252/257 [============================>.] - ETA: 0s - loss: 0.0443\n",
      "Epoch 16: val_loss did not improve from 0.03749\n",
      "257/257 [==============================] - 2s 8ms/step - loss: 0.0441 - val_loss: 0.0386\n",
      "Epoch 17/100\n",
      "256/257 [============================>.] - ETA: 0s - loss: 0.0446\n",
      "Epoch 17: val_loss did not improve from 0.03749\n",
      "257/257 [==============================] - 2s 8ms/step - loss: 0.0446 - val_loss: 0.0415\n",
      "Epoch 18/100\n",
      "251/257 [============================>.] - ETA: 0s - loss: 0.0433\n",
      "Epoch 18: val_loss did not improve from 0.03749\n",
      "257/257 [==============================] - 2s 8ms/step - loss: 0.0432 - val_loss: 0.0406\n",
      "Epoch 19/100\n",
      "249/257 [============================>.] - ETA: 0s - loss: 0.0436\n",
      "Epoch 19: val_loss did not improve from 0.03749\n",
      "257/257 [==============================] - 2s 8ms/step - loss: 0.0435 - val_loss: 0.0431\n",
      "Epoch 20/100\n",
      "253/257 [============================>.] - ETA: 0s - loss: 0.0432\n",
      "Epoch 20: val_loss improved from 0.03749 to 0.03733, saving model to model_weight.ckpt\n",
      "257/257 [==============================] - 2s 7ms/step - loss: 0.0430 - val_loss: 0.0373\n",
      "Epoch 21/100\n",
      "257/257 [==============================] - ETA: 0s - loss: 0.0430\n",
      "Epoch 21: val_loss did not improve from 0.03733\n",
      "257/257 [==============================] - 2s 7ms/step - loss: 0.0430 - val_loss: 0.0467\n",
      "Epoch 22/100\n",
      "254/257 [============================>.] - ETA: 0s - loss: 0.0426\n",
      "Epoch 22: val_loss did not improve from 0.03733\n",
      "257/257 [==============================] - 2s 7ms/step - loss: 0.0425 - val_loss: 0.0384\n",
      "Epoch 23/100\n",
      "249/257 [============================>.] - ETA: 0s - loss: 0.0426\n",
      "Epoch 23: val_loss did not improve from 0.03733\n",
      "257/257 [==============================] - 2s 8ms/step - loss: 0.0425 - val_loss: 0.0435\n",
      "Epoch 24/100\n",
      "249/257 [============================>.] - ETA: 0s - loss: 0.0423\n",
      "Epoch 24: val_loss improved from 0.03733 to 0.03633, saving model to model_weight.ckpt\n",
      "257/257 [==============================] - 2s 8ms/step - loss: 0.0423 - val_loss: 0.0363\n",
      "Epoch 25/100\n",
      "251/257 [============================>.] - ETA: 0s - loss: 0.0418\n",
      "Epoch 25: val_loss did not improve from 0.03633\n",
      "257/257 [==============================] - 2s 7ms/step - loss: 0.0416 - val_loss: 0.0420\n",
      "Epoch 26/100\n",
      "250/257 [============================>.] - ETA: 0s - loss: 0.0422\n",
      "Epoch 26: val_loss did not improve from 0.03633\n",
      "257/257 [==============================] - 2s 7ms/step - loss: 0.0420 - val_loss: 0.0485\n",
      "Epoch 27/100\n",
      "257/257 [==============================] - ETA: 0s - loss: 0.0417\n",
      "Epoch 27: val_loss did not improve from 0.03633\n",
      "257/257 [==============================] - 2s 7ms/step - loss: 0.0417 - val_loss: 0.0452\n",
      "Epoch 28/100\n",
      "253/257 [============================>.] - ETA: 0s - loss: 0.0417\n",
      "Epoch 28: val_loss did not improve from 0.03633\n",
      "257/257 [==============================] - 2s 7ms/step - loss: 0.0415 - val_loss: 0.0381\n",
      "Epoch 29/100\n",
      "253/257 [============================>.] - ETA: 0s - loss: 0.0414\n",
      "Epoch 29: val_loss did not improve from 0.03633\n",
      "257/257 [==============================] - 2s 7ms/step - loss: 0.0413 - val_loss: 0.0387\n",
      "Epoch 30/100\n",
      "250/257 [============================>.] - ETA: 0s - loss: 0.0411\n",
      "Epoch 30: val_loss did not improve from 0.03633\n",
      "257/257 [==============================] - 2s 7ms/step - loss: 0.0410 - val_loss: 0.0371\n",
      "Epoch 31/100\n",
      "250/257 [============================>.] - ETA: 0s - loss: 0.0411\n",
      "Epoch 31: val_loss did not improve from 0.03633\n",
      "257/257 [==============================] - 2s 7ms/step - loss: 0.0410 - val_loss: 0.0392\n",
      "Epoch 32/100\n",
      "255/257 [============================>.] - ETA: 0s - loss: 0.0409\n",
      "Epoch 32: val_loss did not improve from 0.03633\n",
      "257/257 [==============================] - 2s 7ms/step - loss: 0.0408 - val_loss: 0.0405\n",
      "Epoch 33/100\n",
      "254/257 [============================>.] - ETA: 0s - loss: 0.0403\n",
      "Epoch 33: val_loss did not improve from 0.03633\n",
      "257/257 [==============================] - 2s 7ms/step - loss: 0.0403 - val_loss: 0.0413\n",
      "Epoch 34/100\n",
      "255/257 [============================>.] - ETA: 0s - loss: 0.0407\n",
      "Epoch 34: val_loss did not improve from 0.03633\n",
      "257/257 [==============================] - 2s 7ms/step - loss: 0.0407 - val_loss: 0.0403\n",
      "Epoch 35/100\n",
      "253/257 [============================>.] - ETA: 0s - loss: 0.0405\n",
      "Epoch 35: val_loss did not improve from 0.03633\n",
      "257/257 [==============================] - 2s 7ms/step - loss: 0.0403 - val_loss: 0.0386\n",
      "Epoch 36/100\n",
      "254/257 [============================>.] - ETA: 0s - loss: 0.0406\n",
      "Epoch 36: val_loss did not improve from 0.03633\n",
      "257/257 [==============================] - 2s 7ms/step - loss: 0.0405 - val_loss: 0.0377\n",
      "Epoch 37/100\n",
      "249/257 [============================>.] - ETA: 0s - loss: 0.0405\n",
      "Epoch 37: val_loss did not improve from 0.03633\n"
     ]
    },
    {
     "name": "stdout",
     "output_type": "stream",
     "text": [
      "257/257 [==============================] - 2s 7ms/step - loss: 0.0405 - val_loss: 0.0393\n",
      "Epoch 38/100\n",
      "256/257 [============================>.] - ETA: 0s - loss: 0.0401\n",
      "Epoch 38: val_loss did not improve from 0.03633\n",
      "257/257 [==============================] - 2s 8ms/step - loss: 0.0401 - val_loss: 0.0413\n",
      "Epoch 39/100\n",
      "257/257 [==============================] - ETA: 0s - loss: 0.0397\n",
      "Epoch 39: val_loss did not improve from 0.03633\n",
      "257/257 [==============================] - 2s 8ms/step - loss: 0.0397 - val_loss: 0.0407\n",
      "Epoch 40/100\n",
      "252/257 [============================>.] - ETA: 0s - loss: 0.0402\n",
      "Epoch 40: val_loss did not improve from 0.03633\n",
      "257/257 [==============================] - 2s 7ms/step - loss: 0.0400 - val_loss: 0.0381\n",
      "Epoch 41/100\n",
      " 38/257 [===>..........................] - ETA: 1s - loss: 0.0438"
     ]
    }
   ],
   "source": [
    "model = tf.keras.models.Sequential()\n",
    "\n",
    "model.add(tf.keras.layers.LSTM(200, input_shape = x_train.shape[-2:], activation='tanh'))\n",
    "model.add(tf.keras.layers.Dense(future_target))\n",
    "\n",
    "\n",
    "model.compile(optimizer=tf.keras.optimizers.RMSprop(), loss='mae')\n",
    "earlystopping = EarlyStopping(monitor='val_loss',patience=patience, mode='auto')\n",
    "checkpoint = ModelCheckpoint( 'model_weight.ckpt',\n",
    "                             save_best_only=True,\n",
    "                              save_weights_only=True,\n",
    "                              monitor='val_loss', \n",
    "                              verbose=1)\n",
    "model.fit(train_data, epochs=EPOCHS, steps_per_epoch=EVALUATION_INTERVAL,\n",
    "          validation_data=val_data, validation_steps= VALIDATION_EVALU_INTERVAL,\n",
    "          callbacks=[earlystopping,checkpoint], verbose=1)\n"
   ]
  },
  {
   "cell_type": "code",
   "execution_count": null,
   "id": "738b2ad6",
   "metadata": {},
   "outputs": [],
   "source": [
    "model.load_weights('model_weight.ckpt')"
   ]
  },
  {
   "cell_type": "markdown",
   "id": "707e0996",
   "metadata": {},
   "source": [
    "# Loss  시각화"
   ]
  },
  {
   "cell_type": "code",
   "execution_count": null,
   "id": "21bfde5e",
   "metadata": {},
   "outputs": [],
   "source": [
    "# Loss 함수\n",
    "def plot_train_history(model, title):\n",
    "    loss = model.history.history['loss']\n",
    "    val_loss = model.history.history['val_loss']\n",
    "\n",
    "    epochs = range(len(loss))\n",
    "\n",
    "    plt.figure()\n",
    "\n",
    "    plt.plot(epochs, loss, 'b', label='Training loss')\n",
    "    plt.plot(epochs, val_loss, 'r', label='Validation loss')\n",
    "    plt.title(title)\n",
    "    plt.legend()\n",
    "\n",
    "    plt.show()"
   ]
  },
  {
   "cell_type": "code",
   "execution_count": null,
   "id": "b1911667",
   "metadata": {
    "scrolled": true
   },
   "outputs": [],
   "source": [
    "plot_train_history(model, 'Loss')"
   ]
  },
  {
   "cell_type": "markdown",
   "id": "6bc245bb",
   "metadata": {},
   "source": [
    "# 모델 검증 (MAE , R-square)"
   ]
  },
  {
   "cell_type": "markdown",
   "id": "55f91349",
   "metadata": {},
   "source": [
    "## 환율의 평균과 표준편차 구하기"
   ]
  },
  {
   "cell_type": "code",
   "execution_count": null,
   "id": "d5b1cebb",
   "metadata": {},
   "outputs": [],
   "source": [
    "FX_Mean = data.values[:,0].mean()\n",
    "FX_St = data.values[:,0].std()"
   ]
  },
  {
   "cell_type": "markdown",
   "id": "8a99c9c7",
   "metadata": {},
   "source": [
    "## 예측치와 실제값"
   ]
  },
  {
   "cell_type": "code",
   "execution_count": null,
   "id": "778554d7",
   "metadata": {
    "scrolled": true
   },
   "outputs": [],
   "source": [
    "predict = model.predict(x_val)*FX_St+FX_Mean \n",
    "Y = y_val*FX_St+FX_Mean"
   ]
  },
  {
   "cell_type": "markdown",
   "id": "73fc1efa",
   "metadata": {},
   "source": [
    "## 검증데이터의 MAE와 R2"
   ]
  },
  {
   "cell_type": "code",
   "execution_count": null,
   "id": "c812b154",
   "metadata": {},
   "outputs": [],
   "source": [
    "from sklearn.metrics import mean_absolute_error ,r2_score\n",
    "mae = mean_absolute_error(Y, predict)\n",
    "r2 = r2_score(Y,predict)\n",
    "print(f'mae: {mae:.5f}')\n",
    "print(f'r2: {r2:.5f}')\n"
   ]
  },
  {
   "cell_type": "markdown",
   "id": "b21a466a",
   "metadata": {},
   "source": [
    "## 가장 큰 오차, 가장 작은 오차 살피기"
   ]
  },
  {
   "cell_type": "code",
   "execution_count": null,
   "id": "7edc2510",
   "metadata": {},
   "outputs": [],
   "source": [
    "np.set_printoptions(suppress=True, precision = 5)\n",
    "print(f'최대 오차: {np.max(np.abs(Y-predict)):.5f}원')\n",
    "print(f'최소 오차: {np.min(np.abs(Y-predict)):.5f}원')\n",
    "\n",
    "plt.plot(np.abs(Y-predict), 'o')\n",
    "#plt.ylabel('오차 (원)')\n",
    "plt.yticks(rotation = 'vertical')\n",
    "plt.xticks(rotation = 'vertical')\n",
    "plt.xlabel('Date')\n",
    "plt.ylabel('Error(won)')\n",
    "plt.grid()\n",
    "plt.show()"
   ]
  },
  {
   "cell_type": "markdown",
   "id": "5d4dfa96",
   "metadata": {},
   "source": [
    "## 예측 시각화 - 그래프 그리기"
   ]
  },
  {
   "cell_type": "code",
   "execution_count": null,
   "id": "ba1664f2",
   "metadata": {},
   "outputs": [],
   "source": [
    "def create_time_steps(length):\n",
    "    return list(range(-length, 0))\n",
    "\n",
    "def multi_step_plot(history, true_future, prediction):\n",
    "    plt.figure(figsize=(12, 6))\n",
    "    num_in = create_time_steps(len(history))\n",
    "    num_out = len(true_future)\n",
    "    \n",
    "    # history[:, 1] : 3개의 독립변 수 중 2번째 컬럼이 기온 데이터\n",
    "    plt.plot(num_in, np.array(history[:,0]), label='History')\n",
    "    plt.plot(np.arange(num_out)/STEP, np.array(true_future), 'bo', label='True Exchange Rate')\n",
    "    if prediction.any():\n",
    "        plt.plot(np.arange(num_out)/STEP, np.array(prediction), 'ro', label='Predicted Future')\n",
    "    plt.legend()\n",
    "    plt.show()\n",
    "    \n"
   ]
  },
  {
   "cell_type": "code",
   "execution_count": null,
   "id": "77d5e217",
   "metadata": {
    "scrolled": false
   },
   "outputs": [],
   "source": [
    "for x, y in val_data.take(5):\n",
    "    multi_step_plot(x[0]*FX_St+FX_Mean , y[0]*FX_St+FX_Mean , model.predict(x)[0]*FX_St+FX_Mean )"
   ]
  },
  {
   "cell_type": "markdown",
   "id": "16d2c930",
   "metadata": {},
   "source": [
    "# 다음날 예측"
   ]
  },
  {
   "cell_type": "markdown",
   "id": "c7e5908b",
   "metadata": {},
   "source": [
    "## 10일 전 독립변수 데이터의 표준화"
   ]
  },
  {
   "cell_type": "code",
   "execution_count": null,
   "id": "d7f3a6e0",
   "metadata": {},
   "outputs": [],
   "source": [
    "pred = data[-past_history:].values\n",
    "pred_mean = pred.mean(axis=0)\n",
    "pred_std =pred.std(axis=0)\n",
    "pred = (pred-pred_mean)/pred_std"
   ]
  },
  {
   "cell_type": "markdown",
   "id": "f5f9a9d2",
   "metadata": {},
   "source": [
    "## 다음날 환율 예측 값"
   ]
  },
  {
   "cell_type": "code",
   "execution_count": null,
   "id": "96b8e209",
   "metadata": {},
   "outputs": [],
   "source": [
    "if future_target == 1:\n",
    "    tmr = model.predict(pred.reshape(-1,pred.shape[-2],pred.shape[-1]))*FX_St+FX_Mean\n",
    "    tmr = tmr.flatten()\n",
    "    print(f'내일 환율은 {tmr} 원으로 예상됩니다')\n",
    "\n",
    "else:\n",
    "    multiple = model.predict(pred.reshape(-1,pred.shape[-2],pred.shape[-1]))*FX_St+FX_Mean\n",
    "    multiple = multiple.flatten()\n",
    "    for num, value in enumerate(multiple,start=1):\n",
    "        print(f'{num}일 후의 환율은 {value} 원으로 예상됩니다')"
   ]
  },
  {
   "cell_type": "markdown",
   "id": "e8b1482e",
   "metadata": {},
   "source": [
    "## 실제값과 예측값의 데이터 프레임 만들기"
   ]
  },
  {
   "cell_type": "code",
   "execution_count": null,
   "id": "4412698b",
   "metadata": {},
   "outputs": [],
   "source": [
    "predict= pd.DataFrame(predict[:,0], index = data.index[-len(predict):], columns=['predict'])\n",
    "gather_all = pd.concat([data[-len(predict):], predict], axis=1)\n",
    "gather_all = gather_all.drop(['달러지수','crb'], axis=1)"
   ]
  },
  {
   "cell_type": "markdown",
   "id": "04af2684",
   "metadata": {},
   "source": [
    "## 환율 예측 시각화"
   ]
  },
  {
   "cell_type": "code",
   "execution_count": null,
   "id": "2d425252",
   "metadata": {},
   "outputs": [],
   "source": [
    "import matplotlib.pyplot as plt\n",
    "plt.figure(figsize=(16,8))\n",
    "plt.plot(data['USD/KRW'], label ='real')\n",
    "plt.plot(gather_all['predict'],'r:', label ='predict')\n",
    "plt.title('Total Data',fontsize =20)\n",
    "plt.xticks(fontsize =16)\n",
    "plt.yticks(fontsize =16)\n",
    "plt.legend(fontsize =16)\n",
    "plt.show()\n",
    "\n",
    "plt.plot(gather_all.index,  Y, 'r--', label ='real')\n",
    "plt.plot(gather_all.index, predict, 'b:', label ='predict')\n",
    "plt.xticks(rotation = 'vertical')\n",
    "plt.xlabel('Date',fontsize =12)\n",
    "plt.ylabel('USD/KRW',fontsize =12)\n",
    "plt.legend(fontsize =12)\n",
    "plt.title('Validation Data')\n",
    "plt.show()"
   ]
  },
  {
   "cell_type": "code",
   "execution_count": null,
   "id": "ea01dd25",
   "metadata": {},
   "outputs": [],
   "source": [
    "날짜 = int(input('과거 몇일의 데이터를 시각화 할 것인지 입력하세요:'))\n",
    "plt.plot(gather_all.index[-날짜:],  gather_all['USD/KRW'][-날짜:], 'r--', label ='real')\n",
    "plt.plot(gather_all.index[-날짜:],gather_all['predict'][-날짜:], 'b:', label ='predict')\n",
    "\n",
    "plt.xticks(gather_all.index[-날짜:], rotation='vertical')\n",
    "plt.legend()\n",
    "plt.grid()\n",
    "plt.show()"
   ]
  },
  {
   "cell_type": "markdown",
   "id": "77c3fe8f",
   "metadata": {},
   "source": [
    "# 환율 추세 맞추기 _ 이동평균선"
   ]
  },
  {
   "cell_type": "code",
   "execution_count": null,
   "id": "5188fe07",
   "metadata": {},
   "outputs": [],
   "source": [
    "import matplotlib.pyplot as plt\n",
    "날짜 = int(input('과거 몇일의 데이터를 시각화 할 것인지 입력하세요:'))\n",
    "\n",
    "\n",
    "MA = pd.DataFrame(index = gather_all.index)\n",
    "\n",
    "MA['real'] = gather_all['USD/KRW']\n",
    "from datetime import timedelta\n",
    "today = MA.index[-1]\n",
    "tomorrow = today + timedelta(days=1)\n",
    "\n",
    "MA = pd.concat([MA, pd.DataFrame(tmr, index=[tomorrow], columns=['real'])])\n",
    "MA['ma2'] = MA['real'].rolling(window=2).mean()\n",
    "\n",
    "\n",
    "plt.plot(MA['real'][-날짜:],'r:', label='Real')\n",
    "plt.plot(MA['ma2'][-날짜:],'y:', label='ma2')\n",
    "\n",
    "\n",
    "plt.xticks(MA[-날짜:].index,rotation='vertical')\n",
    "\n",
    "\n",
    "plt.legend(loc=\"best\")\n",
    "plt.grid()\n",
    "plt.show()"
   ]
  },
  {
   "cell_type": "code",
   "execution_count": null,
   "id": "bddad9c0",
   "metadata": {},
   "outputs": [],
   "source": [
    "MA['real-ma2'] = MA['real'] - MA['ma2']\n",
    "\n",
    "if MA.iloc[-2]['real-ma2']>0:\n",
    "    if MA.iloc[-2]['real-ma2']*MA.iloc[-1]['real-ma2'] <0:\n",
    "        print('내일 환율이 떨어질 가능성이 크다')\n",
    "    else:\n",
    "        print('내일 환율이 어떻게 될지 모른다')\n",
    "        \n",
    "elif MA.iloc[-2]['real-ma2']<0:\n",
    "    if MA.iloc[-2]['real-ma2']*MA.iloc[-1]['real-ma2'] <0:\n",
    "        print('내일 환율이 오를 가능성이 크다')\n",
    "    else:\n",
    "        print('내일 환율이 어떻게 될지 모른다')\n",
    "        \n",
    "else:\n",
    "    if MA.iloc[-3]['real-ma2']>0:\n",
    "        if MA.iloc[-3]['real-ma2']*MA.iloc[-2]['real-ma2'] <0:\n",
    "            print('내일 환율이 떨어질 가능성이 크다')\n",
    "        else:\n",
    "            print('내일 환율이 어떻게 될지 모른다')\n",
    "    elif MA.iloc[-3]['real-ma2']<0:\n",
    "        if MA.iloc[-3]['real-ma2']*MA.iloc[-2]['real-ma2'] <0:\n",
    "            print('내일 환율이 오를 가능성이 크다')\n",
    "        else:\n",
    "            print('내일 환율이 어떻게 될지 모른다')\n",
    "    else:\n",
    "        if MA.iloc[-4]['real-ma2']>0:\n",
    "            if MA.iloc[-4]['real-ma2']*MA.iloc[-3]['real-ma2'] <0:\n",
    "                print('내일 환율이 떨어질 가능성이 크다')\n",
    "            else:\n",
    "                print('내일 환율이 어떻게 될지 모른다')\n",
    "        elif MA.iloc[-4]['real-ma2']<0:\n",
    "            if MA.iloc[-4]['real-ma2']*MA.iloc[-3]['real-ma2'] <0:\n",
    "                print('내일 환율이 오를 가능성이 크다')\n",
    "            else:\n",
    "                print('내일 환율이 어떻게 될지 모른다')\n",
    "        else:\n",
    "            print('내일 환율이 어떻게 될지 모른다')\n",
    "        "
   ]
  }
 ],
 "metadata": {
  "kernelspec": {
   "display_name": "Python 3 (ipykernel)",
   "language": "python",
   "name": "python3"
  },
  "language_info": {
   "codemirror_mode": {
    "name": "ipython",
    "version": 3
   },
   "file_extension": ".py",
   "mimetype": "text/x-python",
   "name": "python",
   "nbconvert_exporter": "python",
   "pygments_lexer": "ipython3",
   "version": "3.9.13"
  },
  "toc": {
   "base_numbering": 1,
   "nav_menu": {},
   "number_sections": true,
   "sideBar": true,
   "skip_h1_title": false,
   "title_cell": "Table of Contents",
   "title_sidebar": "Contents",
   "toc_cell": false,
   "toc_position": {
    "height": "calc(100% - 180px)",
    "left": "10px",
    "top": "150px",
    "width": "295.8px"
   },
   "toc_section_display": true,
   "toc_window_display": true
  }
 },
 "nbformat": 4,
 "nbformat_minor": 5
}
